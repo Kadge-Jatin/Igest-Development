{
  "nbformat": 4,
  "nbformat_minor": 0,
  "metadata": {
    "colab": {
      "provenance": [],
      "gpuType": "T4"
    },
    "kernelspec": {
      "name": "python3",
      "display_name": "Python 3"
    },
    "language_info": {
      "name": "python"
    },
    "accelerator": "GPU"
  },
  "cells": [
    {
      "cell_type": "markdown",
      "source": [
        "#**Creating a Classification report for Training a Model 'model_v10' on Dataset**<br>\n",
        "\n",
        "---\n",
        "\n",
        "###**Evaluation metrics:**\n",
        "1.      Accuracy\n",
        "2.      Precision\n",
        "3.      Recall\n",
        "4.      F1 score\n",
        "\n",
        "Model name: 'model_v10'<br>\n",
        "No. of Gestures on which Ml model is trained on: 5<br>\n",
        "Total Data points: 5000<br>\n",
        "Total data points for each class gesture: 1000 <br>\n",
        "No. of participants from which data is collected: 1 [Name= Jatin] <br>\n",
        "\n",
        "###**Guestures:**\n",
        "      No Motion, Left Swing, Right Swing, Adduction, Flexion\n",
        "\n",
        "\n",
        "Author: Jatin Kadge<br>\n",
        "EE23D021<br>\n",
        "Date: 25'th Nov 2023"
      ],
      "metadata": {
        "id": "J-X7VRqjAujD"
      }
    },
    {
      "cell_type": "code",
      "execution_count": 1,
      "metadata": {
        "id": "MKaiYMDfWso5"
      },
      "outputs": [],
      "source": [
        "import pandas as pd\n",
        "import numpy as np\n",
        "import matplotlib.pyplot as plt"
      ]
    },
    {
      "cell_type": "code",
      "source": [
        "def getcsv_from_raw(file):\n",
        "  # Replace with your actual CSV file path\n",
        "  csv_file = file\n",
        "\n",
        "  # Read the CSV file into a DataFrame\n",
        "  df = pd.read_csv(csv_file, header=None)\n",
        "\n",
        "  # Split the first column into timestamp and numerical values\n",
        "  #df[0] = df[0].str.split(\" -> \")\n",
        "  #df[[\"timestamp\", \"values\"]] = pd.DataFrame(df[0].tolist(), index=df.index)\n",
        "  #df.drop(columns=[0], inplace=True)\n",
        "\n",
        "  # Rename columns\n",
        "  df.columns = [ \"Ax\", \"Ay\", \"Az\", \"Gx\", \"Gy\",\"Gz\", \"timestamp\"]\n",
        "\n",
        "  # Reordering columns\n",
        "  f = df[[\"timestamp\", \"Ax\", \"Ay\", \"Az\", \"Gx\", \"Gy\", \"Gz\"]]\n",
        "\n",
        "  return f"
      ],
      "metadata": {
        "id": "KIqD-oZB8O5k"
      },
      "execution_count": 2,
      "outputs": []
    },
    {
      "cell_type": "code",
      "source": [
        "# mounting drive\n",
        "from google.colab import drive\n",
        "drive.mount('/content/drive')"
      ],
      "metadata": {
        "colab": {
          "base_uri": "https://localhost:8080/"
        },
        "id": "vwChsxaf8RJO",
        "outputId": "12af8a82-89a9-4adb-a675-28cb28eefbc7"
      },
      "execution_count": 3,
      "outputs": [
        {
          "output_type": "stream",
          "name": "stdout",
          "text": [
            "Mounted at /content/drive\n"
          ]
        }
      ]
    },
    {
      "cell_type": "code",
      "source": [
        "left_swing = getcsv_from_raw(\"/content/drive/MyDrive/Wearable_devices_newdata/Data/left-swing_1000-data.csv\")\n",
        "right_swing = getcsv_from_raw(\"/content/drive/MyDrive/Wearable_devices_newdata/Data/right-swing_1000-data.csv\")\n",
        "no_motion = getcsv_from_raw(\"/content/drive/MyDrive/Wearable_devices_newdata/Data/no-motion_1000-data.csv\")\n",
        "flexion = getcsv_from_raw(\"/content/drive/MyDrive/Wearable_devices_newdata/Data/flexion-2_1000-data.csv\")\n",
        "adduction = getcsv_from_raw(\"/content/drive/MyDrive/Wearable_devices_newdata/Data/adduction-2_1000-data.csv\")"
      ],
      "metadata": {
        "id": "FpDpXhhXnoub"
      },
      "execution_count": 4,
      "outputs": []
    },
    {
      "cell_type": "markdown",
      "source": [
        "####**Assigning unique values to guestures**"
      ],
      "metadata": {
        "id": "FxHlxsho8h0U"
      }
    },
    {
      "cell_type": "code",
      "source": [
        "def combine_data(gesture, df):\n",
        "  df['gesture'] = gesture\n",
        "  return df"
      ],
      "metadata": {
        "id": "torNjR568djX"
      },
      "execution_count": 5,
      "outputs": []
    },
    {
      "cell_type": "code",
      "source": [
        "final_l = combine_data(\"Left swing\",left_swing)            # left = 1 rough value\n",
        "final_r = combine_data(\"Right swing\",right_swing)           # right = 2\n",
        "final_n = combine_data(\"No motion\",no_motion)             # no_motion = 0 rough value\n",
        "final_adduction = combine_data(\"Adduction\",adduction)     # adduction = 3 rough value\n",
        "final_flexion = combine_data(\"Flexion\",flexion)         # flexion = 4 rough value"
      ],
      "metadata": {
        "id": "9tWQxyhFrCE4"
      },
      "execution_count": 6,
      "outputs": []
    },
    {
      "cell_type": "markdown",
      "source": [
        "####**Seperating the data into 80:20 ration for Trainin and Testing**"
      ],
      "metadata": {
        "id": "pkbuKGVWodPK"
      }
    },
    {
      "cell_type": "code",
      "source": [
        "def test_train(d2, file_name):\n",
        "  # features and output columns for training set 80% of input data\n",
        "  x_train = d2.iloc[:round(0.8*(d2.shape[0])), :-1]\n",
        "  y_train = d2.iloc[:round(0.8*(d2.shape[0])), -1]\n",
        "\n",
        "\n",
        "  # features and output columns for validation set 20% of input data\n",
        "  x_validation = d2.iloc[round(0.8*len(d2)):, :-1]\n",
        "  y_validation = d2.iloc[round(0.8*len(d2)):, -1]\n",
        "\n",
        "\n",
        "  return x_train, y_train, x_validation, y_validation"
      ],
      "metadata": {
        "id": "rLaTi5UyoXgt"
      },
      "execution_count": 7,
      "outputs": []
    },
    {
      "cell_type": "code",
      "source": [
        "l_x_train,l_y_train,l_x_validation,l_y_validation = test_train(final_l, \"left_swing\")\n",
        "r_x_train,r_y_train,r_x_validation,r_y_validation = test_train(final_r, \"right_swing\")\n",
        "n_x_train,n_y_train,n_x_validation,n_y_validation = test_train(final_n, \"no_motion\")\n",
        "\n",
        "adduction_x_train,adduction_y_train,adduction_x_validation,adduction_y_validation = test_train(final_adduction, \"adduction\")\n",
        "flexion_x_train,flexion_y_train,flexion_x_validation,flexion_y_validation = test_train(final_flexion, \"flexion\")"
      ],
      "metadata": {
        "id": "MqTuWVZ_olEm"
      },
      "execution_count": 8,
      "outputs": []
    },
    {
      "cell_type": "markdown",
      "source": [
        "####**Preprocessing the Train Test data before pushing it to ML Algorithem**"
      ],
      "metadata": {
        "id": "7BKwNSkHorh6"
      }
    },
    {
      "cell_type": "code",
      "source": [
        "def convert_to_np(df,k):\n",
        "  if (k==0):\n",
        "    n_timesteps = 10\n",
        "    n_features = 6\n",
        "\n",
        "    # Load the data from your dataframele\\\\\n",
        "    data = df.copy()\n",
        "\n",
        "    # Drop the timestamp column\n",
        "    data = data.drop(columns=['timestamp'])\n",
        "\n",
        "    # Determine the number of samples\n",
        "    num_samples = len(data) // n_timesteps\n",
        "\n",
        "    # Trim the data to only include full samples\n",
        "    data = data.iloc[:num_samples * n_timesteps]\n",
        "\n",
        "    # Convert the data to a 3D format\n",
        "    data_3d = data.values.reshape((num_samples, n_timesteps, n_features))\n",
        "\n",
        "    # Print the shape of the resulting data\n",
        "    return data_3d\n",
        "  else:\n",
        "    df = df.iloc[:df.shape[0]//10]\n",
        "    x = (np.array(df.values)).reshape(df.shape[0],1)\n",
        "\n",
        "    return x"
      ],
      "metadata": {
        "id": "eeu47lbGonTK"
      },
      "execution_count": 9,
      "outputs": []
    },
    {
      "cell_type": "code",
      "source": [
        "# converting the dataframes to numpy arrays for efficient calculation\n",
        "x_train = convert_to_np(l_x_train,0)\n",
        "x_train = np.vstack((x_train,convert_to_np(r_x_train,0)))\n",
        "x_train = np.vstack((x_train,convert_to_np(n_x_train,0)))\n",
        "x_train = np.vstack((x_train,convert_to_np(flexion_x_train,0)))\n",
        "x_train = np.vstack((x_train,convert_to_np(adduction_x_train,0)))\n",
        "\n",
        "y_train = convert_to_np(l_y_train,1)\n",
        "y_train = np.vstack((y_train,convert_to_np(r_y_train,1)))\n",
        "y_train = np.vstack((y_train,convert_to_np(n_y_train,1)))\n",
        "y_train = np.vstack((y_train,convert_to_np(flexion_y_train,1)))\n",
        "y_train = np.vstack((y_train,convert_to_np(adduction_y_train,1)))\n",
        "\n",
        "x_validation = convert_to_np(l_x_validation,0)\n",
        "x_validation = np.vstack((x_validation,convert_to_np(r_x_validation,0)))\n",
        "x_validation = np.vstack((x_validation,convert_to_np(n_x_validation,0)))\n",
        "x_validation = np.vstack((x_validation,convert_to_np(flexion_x_validation,0)))\n",
        "x_validation = np.vstack((x_validation,convert_to_np(adduction_x_validation,0)))\n",
        "\n",
        "\n",
        "y_validation = convert_to_np(l_y_validation,1)\n",
        "y_validation = np.vstack((y_validation,convert_to_np(r_y_validation,1)))\n",
        "y_validation = np.vstack((y_validation,convert_to_np(n_y_validation,1)))\n",
        "y_validation = np.vstack((y_validation,convert_to_np(flexion_y_validation,1)))\n",
        "y_validation = np.vstack((y_validation,convert_to_np(adduction_y_validation,1)))"
      ],
      "metadata": {
        "id": "7tHzt688o1qN"
      },
      "execution_count": 10,
      "outputs": []
    },
    {
      "cell_type": "markdown",
      "source": [
        "#### **Training the machine learning model over the data**"
      ],
      "metadata": {
        "id": "ckp1zUMQo-uY"
      }
    },
    {
      "cell_type": "code",
      "source": [
        "# converting the numpy arrays to tensors\n",
        "import tensorflow as tf\n",
        "\n",
        "def conv_tensor(x):\n",
        "  t = tf.convert_to_tensor(x.astype('float32'))\n",
        "  return t"
      ],
      "metadata": {
        "id": "kZAgFdQmpJUd"
      },
      "execution_count": 11,
      "outputs": []
    },
    {
      "cell_type": "code",
      "source": [
        "print('TensorFlow ' + tf.__version__)"
      ],
      "metadata": {
        "colab": {
          "base_uri": "https://localhost:8080/"
        },
        "id": "M3xx9_P-tB3s",
        "outputId": "16d9f65a-3bc9-46a3-e4a2-5f7f60538cd0"
      },
      "execution_count": 12,
      "outputs": [
        {
          "output_type": "stream",
          "name": "stdout",
          "text": [
            "TensorFlow 2.14.0\n"
          ]
        }
      ]
    },
    {
      "cell_type": "markdown",
      "source": [
        "Importing the necessary modules for the machine learning model"
      ],
      "metadata": {
        "id": "gZjeayaTpRlv"
      }
    },
    {
      "cell_type": "code",
      "source": [
        "from numpy import mean\n",
        "from numpy import std\n",
        "from numpy import dstack\n",
        "from pandas import read_csv\n",
        "from io import StringIO\n",
        "from matplotlib import pyplot\n",
        "from keras.models import Sequential\n",
        "from keras.layers import Dense\n",
        "from keras.layers import Flatten\n",
        "from keras.layers import Dropout\n",
        "from keras.layers import Conv1D\n",
        "from keras.layers import Conv2D\n",
        "from keras.layers import MaxPooling1D\n",
        "from keras.layers import MaxPooling2D\n",
        "from keras.utils import to_categorical\n",
        "from sklearn.preprocessing import LabelEncoder\n",
        "from sklearn.metrics import confusion_matrix, classification_report\n",
        "import seaborn as sns"
      ],
      "metadata": {
        "id": "XcnEALxzpSlk"
      },
      "execution_count": 13,
      "outputs": []
    },
    {
      "cell_type": "markdown",
      "source": [
        "##### **ML model**"
      ],
      "metadata": {
        "id": "eAo3LMbjpeDR"
      }
    },
    {
      "cell_type": "markdown",
      "source": [
        "Over here we used a sequential convolutional neural network. The data consisted of m samples, where each sample had 10 subsequent time stamps and each time stamp containing 6 features."
      ],
      "metadata": {
        "id": "iXdaV-Fipp3M"
      }
    },
    {
      "cell_type": "markdown",
      "source": [
        "This is a sequential model with the following layers\n",
        "\n",
        "\n",
        "1. Conv2D layer with 8 filters, kernel size of (3,1) and ReLU activation, with input shape of (n_timesteps, n_features).\n",
        "2. Another Conv2D layer with 8 filters, kernel size of (3,1) and ReLU activation.\n",
        "3. A dropout layer with 0.5 dropout rate.\n",
        "4. A MaxPooling2D layer with pool size of 2.\n",
        "5. A flatten layer.\n",
        "6. A dense layer with 20 neurons and ReLU activation.\n",
        "7. Another dense layer with n_outputs neurons and softmax activation.\n",
        "\n",
        "The model is compiled with categorical cross-entropy loss, adam optimizer and accuracy metric. It is trained with the given trainX and trainy data for a specified number of epochs and batch size. Finally, the accuracy of the model is evaluated on the testX and testy data."
      ],
      "metadata": {
        "id": "J1NuWF4kpt5w"
      }
    },
    {
      "cell_type": "markdown",
      "source": [
        "###### **4**\n",
        "This is a model having **500 epochs**. This means that the training data will pass throught the model 500 times so that the model can see hidden patterns which were not seen in the initial iterations."
      ],
      "metadata": {
        "id": "WdQDGf1xp61W"
      }
    },
    {
      "cell_type": "code",
      "source": [
        "# One-hot encode integer labels\n",
        "label_encoder = LabelEncoder()\n",
        "y_train_one_hot0 = label_encoder.fit_transform(y_train.ravel())\n",
        "y_validation_one_hot0 = label_encoder.fit_transform(y_validation.ravel())\n",
        "\n",
        "y_train_one_hot = to_categorical(y_train_one_hot0)\n",
        "y_validation_one_hot = to_categorical(y_validation_one_hot0)\n",
        "\n",
        "# fit and evaluate a model\n",
        "def evaluate_model(trainX, trainy, testX, testy):\n",
        "\tverbose, epochs, batch_size = 0, 500, 32\n",
        "\tn_timesteps, n_features, n_outputs = trainX.shape[1], trainX.shape[2], trainy.shape[1]\n",
        "\tmodel = Sequential()\n",
        "\tmodel.add(Conv2D(filters=8, kernel_size=(3,1), activation='relu', input_shape=(n_timesteps,n_features,1)))\n",
        "\tmodel.add(Conv2D(filters=8, kernel_size=(3,1), activation='relu'))\n",
        "\tmodel.add(Dropout(0.5))\n",
        "\tmodel.add(MaxPooling2D(pool_size=(2,1)))\n",
        "\tmodel.add(Flatten())\n",
        "\tmodel.add(Dense(20, activation='relu'))\n",
        "\tmodel.add(Dense(n_outputs, activation='softmax'))\n",
        "\tmodel.compile(loss='categorical_crossentropy', optimizer='adam', metrics=['accuracy'])\n",
        "\t# fit network\n",
        "\tmodel.fit(trainX, trainy, epochs=epochs, batch_size=batch_size, verbose=verbose)\n",
        "\n",
        "\t#######SAVING The MODEL\n",
        "\tmodel.save(\"/content/drive/MyDrive/Wearable_devices_newdata/ML_models/model_v1060.keras\")\n",
        "\n",
        "\n",
        "\t########Loading the model\n",
        "\tloaded_model = tf.keras.models.load_model(\"/content/drive/MyDrive/Wearable_devices_newdata/ML_models/model_v1060.keras\")\n",
        "\n",
        "\t# confusion matrix\n",
        "\ty_pred = loaded_model.predict(testX)\n",
        "\ty_true = [np.argmax(testy[i]) for i in range(len(testy))]\n",
        "\ty_pred_classes = [np.argmax(y_pred[i]) for i in range(len(y_pred))]\n",
        "\n",
        "\tconfusion_mtx = confusion_matrix(y_true, y_pred_classes)\n",
        "\n",
        "\t# evaluate model\n",
        "\t_, accuracy = loaded_model.evaluate(testX, testy, batch_size=batch_size, verbose=0)\n",
        "\n",
        "\tclassifi_report= classification_report(y_true, y_pred_classes, target_names= [\"Left swing\", \"Right swing\", \"No motion\", \"Adduction\", \"Flexion\"])\n",
        "\n",
        "\treturn accuracy, confusion_mtx, classifi_report\n",
        "\n",
        "# summarize scores\n",
        "def summarize_results(scores, scores_list):\n",
        "\tprint(\"Scores of 10 experiments:\", scores_list)\n",
        "\tm = mean(scores)\n",
        "\tprint('Accuracy: %.3f%% ' % (m))\n",
        "\n",
        "def average(classification_reports):\n",
        "\t#collecting classification report list string\n",
        "\tcombined_classification_report = '\\n\\n'.join(classification_reports)\n",
        "\tclassification_reports_df = pd.read_fwf(StringIO(combined_classification_report))\n",
        "\t#adding column names\n",
        "\tclassification_reports_df.columns = ['class', 'precision', 'recall', 'f1-score', 'support']\n",
        "\t#dropping nan values and accuracy, micro avg, weighted avg rows\n",
        "\tclassification_reports_df = classification_reports_df.dropna(subset=['class'], axis=0)\n",
        "\tclassification_reports_df = classification_reports_df[~classification_reports_df['class'].isin(['accuracy', 'macro avg', 'weighted avg'])]\n",
        "\t#droping index column\n",
        "\n",
        "\tclassification_reports_df.reset_index(drop=True, inplace=True)\n",
        "\t#to find average\n",
        "\tnumeric_cols = ['precision', 'recall', 'f1-score', 'support']\n",
        "\tclassification_reports_df[numeric_cols] = classification_reports_df[numeric_cols].astype(float)\n",
        "\taverage_values = classification_reports_df.groupby('class').mean().reset_index()\n",
        "\tprint(\"Average Classification report:\\n\", average_values)\n",
        "\n",
        "# run an experiment\n",
        "def run_experiment(repeats=10):\n",
        "\t# load data\n",
        "\ttrainX, trainy, testX, testy = conv_tensor(x_train),conv_tensor(y_train_one_hot),conv_tensor(x_validation),conv_tensor(y_validation_one_hot)\n",
        "\t# repeat experiment\n",
        "\n",
        "\ttotal_conf = np.zeros([5,5])\n",
        "\n",
        "\tscores = list()\n",
        "\tscores_list = list()\n",
        "\n",
        "\tclassification_reports = []\n",
        "\n",
        "\tfor r in range(repeats):\n",
        "\t\tscore, confusion_mtx, classifi_report = evaluate_model(trainX, trainy, testX, testy)\n",
        "\t\tscore = score * 100.0\n",
        "\t\t#score = round(score,3)\n",
        "\t\tscore_list = \"{:.3f}\".format(score)\n",
        "\t\tprint('Score of experiment >#%d: %.3f' % (r+1, score))\n",
        "\t\tscores.append(score)\n",
        "\t\t#scores_list.append(float(score_list))\n",
        "\t\tscores_list.append(score_list)\n",
        "\t\ttotal_conf+=confusion_mtx\n",
        "\t\tclassification_reports.append(classifi_report)\n",
        "\n",
        "\n",
        "\t# summarize results\n",
        "\taverage(classification_reports)\n",
        "\tsummarize_results(scores, scores_list)\n",
        "\tfig, ax = plt.subplots(figsize=(8, 6))\n",
        "\tsns.heatmap(total_conf, annot=True, cmap='Blues', fmt='g', ax=ax)\n",
        "\tax.set_xlabel('Predicted labels')\n",
        "\tax.set_ylabel('True labels')\n",
        "\tax.set_title('Confusion Matrix')\n",
        "\tplt.show()\n",
        "# run the experiment\n",
        "run_experiment()"
      ],
      "metadata": {
        "colab": {
          "base_uri": "https://localhost:8080/",
          "height": 1000
        },
        "outputId": "4f6d8f14-9f6f-4e7c-b768-e8d02fe5a191",
        "id": "G7n0HfoPiFZA"
      },
      "execution_count": 23,
      "outputs": [
        {
          "output_type": "stream",
          "name": "stdout",
          "text": [
            "4/4 [==============================] - 0s 4ms/step\n",
            "Score of experiment >#1: 98.000\n",
            "4/4 [==============================] - 0s 4ms/step\n",
            "Score of experiment >#2: 100.000\n",
            "4/4 [==============================] - 0s 4ms/step\n",
            "Score of experiment >#3: 100.000\n",
            "4/4 [==============================] - 0s 3ms/step\n",
            "Score of experiment >#4: 98.000\n",
            "4/4 [==============================] - 0s 4ms/step\n",
            "Score of experiment >#5: 100.000\n",
            "4/4 [==============================] - 0s 3ms/step\n",
            "Score of experiment >#6: 99.000\n",
            "4/4 [==============================] - 0s 5ms/step\n",
            "Score of experiment >#7: 99.000\n",
            "4/4 [==============================] - 0s 5ms/step\n",
            "Score of experiment >#8: 100.000\n",
            "4/4 [==============================] - 0s 4ms/step\n",
            "Score of experiment >#9: 100.000\n",
            "4/4 [==============================] - 0s 4ms/step\n",
            "Score of experiment >#10: 99.000\n",
            "Average Classification report:\n",
            "          class  precision  recall  f1-score  support\n",
            "0    Adduction      1.000   1.000     1.000     20.0\n",
            "1      Flexion      0.976   1.000     0.989     20.0\n",
            "2   Left swing      1.000   0.990     0.994     20.0\n",
            "3    No motion      0.990   0.975     0.982     20.0\n",
            "4  Right swing      1.000   1.000     1.000     20.0\n",
            "Scores of 10 experiments: ['98.000', '100.000', '100.000', '98.000', '100.000', '99.000', '99.000', '100.000', '100.000', '99.000']\n",
            "Accuracy: 99.300% \n"
          ]
        },
        {
          "output_type": "display_data",
          "data": {
            "text/plain": [
              "<Figure size 800x600 with 2 Axes>"
            ],
            "image/png": "[encoded data removed]"
          },
          "metadata": {}
        }
      ]
    }
  ]
}