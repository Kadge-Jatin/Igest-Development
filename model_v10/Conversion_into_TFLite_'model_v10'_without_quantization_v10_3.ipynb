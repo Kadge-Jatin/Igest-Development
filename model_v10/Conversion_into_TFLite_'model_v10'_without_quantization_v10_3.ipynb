{
  "nbformat": 4,
  "nbformat_minor": 0,
  "metadata": {
    "colab": {
      "provenance": []
    },
    "kernelspec": {
      "name": "python3",
      "display_name": "Python 3"
    },
    "language_info": {
      "name": "python"
    }
  },
  "cells": [
    {
      "cell_type": "markdown",
      "source": [
        "# **This code converts 'model_v10' into TFlite model 'model__v10_3.tflte'and then into .h file without quantization v10_3**<br>\n",
        "Author: Jatin Kadge<br>\n",
        "Roll No.: EE23D021 <br>\n",
        "Date: 31'st Oct 2023"
      ],
      "metadata": {
        "id": "WNI1pXRx3op0"
      }
    },
    {
      "cell_type": "code",
      "execution_count": 1,
      "metadata": {
        "colab": {
          "base_uri": "https://localhost:8080/"
        },
        "id": "BmsJehn4A-Gf",
        "outputId": "0945d1f0-2439-4a1f-f40e-223b66e84166"
      },
      "outputs": [
        {
          "output_type": "stream",
          "name": "stdout",
          "text": [
            "Colab only includes TensorFlow 2.x; %tensorflow_version has no effect.\n"
          ]
        }
      ],
      "source": [
        "%tensorflow_version 2.1\n",
        "\n",
        "#%tensorflow_version` only switches the major version: 1.x or 2.x.\n",
        "#You set: `2.1`. This will be interpreted as: `2.x`."
      ]
    },
    {
      "cell_type": "code",
      "source": [
        "import tensorflow as tf\n",
        "import numpy as np\n",
        "import matplotlib.pyplot as plt\n",
        "import math\n",
        "from tensorflow.keras import layers"
      ],
      "metadata": {
        "id": "d4FLDsMf4u3d"
      },
      "execution_count": 2,
      "outputs": []
    },
    {
      "cell_type": "code",
      "source": [
        "# Print versions\n",
        "!python --versions\n",
        "print('Numpy ' + np.__version__)\n",
        "print('TensorFlow ' + tf.__version__)\n",
        "#print('keras ' + tf.keras.version.VERSION)"
      ],
      "metadata": {
        "colab": {
          "base_uri": "https://localhost:8080/"
        },
        "id": "gltNxstl5Ixs",
        "outputId": "f72eb764-0de8-406e-c02e-c49fb020ce2c"
      },
      "execution_count": 3,
      "outputs": [
        {
          "output_type": "stream",
          "name": "stdout",
          "text": [
            "unknown option --versions\n",
            "usage: python3 [option] ... [-c cmd | -m mod | file | -] [arg] ...\n",
            "Try `python -h' for more information.\n",
            "Numpy 1.23.5\n",
            "TensorFlow 2.14.0\n"
          ]
        }
      ]
    },
    {
      "cell_type": "code",
      "source": [
        "tflite_model_name = 'tflite_model__v10_3'  # Will be given .tflite suffix\n",
        "c_model_name = 'c_model__v10_3'       # Will be given .h suffix"
      ],
      "metadata": {
        "id": "yxDDHGX37Hea"
      },
      "execution_count": 4,
      "outputs": []
    },
    {
      "cell_type": "code",
      "source": [
        "# mounting drive\n",
        "from google.colab import drive\n",
        "drive.mount('/content/drive')"
      ],
      "metadata": {
        "colab": {
          "base_uri": "https://localhost:8080/"
        },
        "id": "MbxUWcJK5gEJ",
        "outputId": "3afe89ed-8ab2-494b-a3cf-91c87631a48d"
      },
      "execution_count": 5,
      "outputs": [
        {
          "output_type": "stream",
          "name": "stdout",
          "text": [
            "Drive already mounted at /content/drive; to attempt to forcibly remount, call drive.mount(\"/content/drive\", force_remount=True).\n"
          ]
        }
      ]
    },
    {
      "cell_type": "code",
      "source": [
        "  #Load the Saved model\n",
        "  loaded_model = tf.keras.models.load_model(\"/content/drive/MyDrive/Wearable_devices_newdata/ML_models/model_v10.keras\")"
      ],
      "metadata": {
        "id": "M4hvvE-O5WYZ"
      },
      "execution_count": 6,
      "outputs": []
    },
    {
      "cell_type": "code",
      "source": [
        "# View model\n",
        "loaded_model.summary()"
      ],
      "metadata": {
        "colab": {
          "base_uri": "https://localhost:8080/"
        },
        "id": "SnwN-GmR5ab7",
        "outputId": "0e5ccd26-1a61-4abd-fee1-f0721a17492d"
      },
      "execution_count": 7,
      "outputs": [
        {
          "output_type": "stream",
          "name": "stdout",
          "text": [
            "Model: \"sequential_9\"\n",
            "_________________________________________________________________\n",
            " Layer (type)                Output Shape              Param #   \n",
            "=================================================================\n",
            " conv2d_18 (Conv2D)          (None, 8, 6, 8)           32        \n",
            "                                                                 \n",
            " conv2d_19 (Conv2D)          (None, 6, 6, 8)           200       \n",
            "                                                                 \n",
            " dropout_9 (Dropout)         (None, 6, 6, 8)           0         \n",
            "                                                                 \n",
            " max_pooling2d_9 (MaxPoolin  (None, 3, 6, 8)           0         \n",
            " g2D)                                                            \n",
            "                                                                 \n",
            " flatten_9 (Flatten)         (None, 144)               0         \n",
            "                                                                 \n",
            " dense_18 (Dense)            (None, 20)                2900      \n",
            "                                                                 \n",
            " dense_19 (Dense)            (None, 5)                 105       \n",
            "                                                                 \n",
            "=================================================================\n",
            "Total params: 3237 (12.64 KB)\n",
            "Trainable params: 3237 (12.64 KB)\n",
            "Non-trainable params: 0 (0.00 Byte)\n",
            "_________________________________________________________________\n"
          ]
        }
      ]
    },
    {
      "cell_type": "code",
      "source": [
        "# Convert Keras model to a tflite model\n",
        "converter = tf.lite.TFLiteConverter.from_keras_model(loaded_model)\n",
        "converter.optimizations = []\n",
        "converter.allow_custom_ops = False\n",
        "converter.experimental_new_converter = True\n",
        "tflite_model = converter.convert()\n",
        "#droping default optimisation function and custom all ops function above\n",
        "\n",
        "open(tflite_model_name + '.tflite', 'wb').write(tflite_model)\n",
        "\n",
        "import os\n",
        "basic_model_size = os.path.getsize(\"tflite_model__v10_3.tflite\")\n",
        "print(\"Model is %d bytes\" % basic_model_size)"
      ],
      "metadata": {
        "colab": {
          "base_uri": "https://localhost:8080/"
        },
        "id": "VHwSGVMo528I",
        "outputId": "5ac7d675-c838-47a6-93c5-c70456d6dc7c"
      },
      "execution_count": 8,
      "outputs": [
        {
          "output_type": "stream",
          "name": "stdout",
          "text": [
            "Model is 16300 bytes\n"
          ]
        }
      ]
    },
    {
      "cell_type": "code",
      "source": [
        "# Function: Convert some hex value into an array for C programming\n",
        "def hex_to_c_array(hex_data, var_name):\n",
        "\n",
        "  c_str = ''\n",
        "\n",
        "  # Create header guard\n",
        "  c_str += '#ifndef ' + var_name.upper() + '_H\\n'\n",
        "  c_str += '#define ' + var_name.upper() + '_H\\n\\n'\n",
        "\n",
        "  # Add array length at top of file\n",
        "  c_str += '\\nunsigned int ' + var_name + '_len = ' + str(len(hex_data)) + ';\\n'\n",
        "\n",
        "  # Declare C variable\n",
        "  c_str += 'unsigned char ' + var_name + '[] = {'\n",
        "  hex_array = []\n",
        "  for i, val in enumerate(hex_data) :\n",
        "\n",
        "    # Construct string from hex\n",
        "    hex_str = format(val, '#04x')\n",
        "\n",
        "    # Add formatting so each line stays within 80 characters\n",
        "    if (i + 1) < len(hex_data):\n",
        "      hex_str += ','\n",
        "    if (i + 1) % 12 == 0:\n",
        "      hex_str += '\\n '\n",
        "    hex_array.append(hex_str)\n",
        "\n",
        "  # Add closing brace\n",
        "  c_str += '\\n ' + format(' '.join(hex_array)) + '\\n};\\n\\n'\n",
        "\n",
        "  # Close out header guard\n",
        "  c_str += '#endif //' + var_name.upper() + '_H'\n",
        "\n",
        "  return c_str"
      ],
      "metadata": {
        "id": "yBjac0ld8-Qk"
      },
      "execution_count": 9,
      "outputs": []
    },
    {
      "cell_type": "code",
      "source": [
        "# Write TFLite model to a C source (or header) file\n",
        "with open(c_model_name + '.h', 'w') as file:\n",
        "  file.write(hex_to_c_array(tflite_model, c_model_name))"
      ],
      "metadata": {
        "id": "hqfSEJHd9F2Y"
      },
      "execution_count": 10,
      "outputs": []
    }
  ]
}