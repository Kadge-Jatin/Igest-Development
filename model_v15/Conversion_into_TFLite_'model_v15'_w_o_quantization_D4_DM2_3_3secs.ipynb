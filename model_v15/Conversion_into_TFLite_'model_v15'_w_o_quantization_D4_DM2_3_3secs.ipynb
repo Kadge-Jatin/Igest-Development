{
  "cells": [
    {
      "cell_type": "markdown",
      "metadata": {
        "id": "WNI1pXRx3op0"
      },
      "source": [
        "# **This code converts 'model_v15' into TFlite model and then into .h file without quantization  DM2, D4**<br>\n",
        "Author: Jatin Kadge<br>\n",
        "Roll No.: EE23D021 <br>\n",
        "Date: 05 Dec 2023"
      ]
    },
    {
      "cell_type": "code",
      "execution_count": null,
      "metadata": {
        "colab": {
          "base_uri": "https://localhost:8080/"
        },
        "id": "BmsJehn4A-Gf",
        "outputId": "8287bb84-2560-4106-8db8-64ebbb3f8759"
      },
      "outputs": [
        {
          "name": "stdout",
          "output_type": "stream",
          "text": [
            "Colab only includes TensorFlow 2.x; %tensorflow_version has no effect.\n"
          ]
        }
      ],
      "source": [
        "%tensorflow_version 2.1\n",
        "\n",
        "#%tensorflow_version` only switches the major version: 1.x or 2.x.\n",
        "#You set: `2.1`. This will be interpreted as: `2.x`."
      ]
    },
    {
      "cell_type": "code",
      "execution_count": null,
      "metadata": {
        "id": "d4FLDsMf4u3d"
      },
      "outputs": [],
      "source": [
        "import tensorflow as tf\n",
        "import numpy as np\n",
        "import matplotlib.pyplot as plt\n",
        "import math\n",
        "from tensorflow.keras import layers"
      ]
    },
    {
      "cell_type": "code",
      "execution_count": null,
      "metadata": {
        "colab": {
          "base_uri": "https://localhost:8080/"
        },
        "id": "gltNxstl5Ixs",
        "outputId": "ff3c3b2e-38c2-45fd-a034-32608a553ee6"
      },
      "outputs": [
        {
          "name": "stdout",
          "output_type": "stream",
          "text": [
            "unknown option --versions\n",
            "usage: python3 [option] ... [-c cmd | -m mod | file | -] [arg] ...\n",
            "Try `python -h' for more information.\n",
            "Numpy 1.23.5\n",
            "TensorFlow 2.14.0\n"
          ]
        }
      ],
      "source": [
        "# Print versions\n",
        "!python --versions\n",
        "print('Numpy ' + np.__version__)\n",
        "print('TensorFlow ' + tf.__version__)\n",
        "#print('keras ' + tf.keras.version.VERSION)"
      ]
    },
    {
      "cell_type": "code",
      "execution_count": null,
      "metadata": {
        "id": "yxDDHGX37Hea"
      },
      "outputs": [],
      "source": [
        "tflite_model_name = 'tflite_dmodel__v10_4_DM2_3_3secs_2'  # Will be given .tflite suffix\n",
        "c_model_name = 'c_dmodel__v15_DM2_3_3secs_2'       # Will be given .h suffix\n"
      ]
    },
    {
      "cell_type": "code",
      "execution_count": null,
      "metadata": {
        "colab": {
          "base_uri": "https://localhost:8080/"
        },
        "id": "MbxUWcJK5gEJ",
        "outputId": "7bfbd3a6-e6b9-4ffd-a11e-82441401407c"
      },
      "outputs": [
        {
          "name": "stdout",
          "output_type": "stream",
          "text": [
            "Mounted at /content/drive\n"
          ]
        }
      ],
      "source": [
        "# mounting drive\n",
        "from google.colab import drive\n",
        "drive.mount('/content/drive')"
      ]
    },
    {
      "cell_type": "code",
      "execution_count": null,
      "metadata": {
        "id": "M4hvvE-O5WYZ"
      },
      "outputs": [],
      "source": [
        "  #Load the Saved model\n",
        "  loaded_model = tf.keras.models.load_model(\"/content/drive/MyDrive/iGest/Data/05_Dec/Models/dmodel_v15-DM2-3_3secs_reduced_2.keras\")\n",
        "\n",
        "  #Drive Link: https://drive.google.com/drive/folders/19_DLihXj594NRIow7G-10f4maR_aOd3D?usp=sharing"
      ]
    },
    {
      "cell_type": "code",
      "execution_count": null,
      "metadata": {
        "colab": {
          "base_uri": "https://localhost:8080/"
        },
        "id": "SnwN-GmR5ab7",
        "outputId": "16b1e6ae-22a2-42cc-d447-c111e8729aaf"
      },
      "outputs": [
        {
          "name": "stdout",
          "output_type": "stream",
          "text": [
            "Model: \"sequential_9\"\n",
            "_________________________________________________________________\n",
            " Layer (type)                Output Shape              Param #   \n",
            "=================================================================\n",
            " conv2d_18 (Conv2D)          (None, 48, 6, 4)          16        \n",
            "                                                                 \n",
            " conv2d_19 (Conv2D)          (None, 46, 6, 4)          52        \n",
            "                                                                 \n",
            " dropout_9 (Dropout)         (None, 46, 6, 4)          0         \n",
            "                                                                 \n",
            " max_pooling2d_9 (MaxPoolin  (None, 23, 6, 4)          0         \n",
            " g2D)                                                            \n",
            "                                                                 \n",
            " flatten_9 (Flatten)         (None, 552)               0         \n",
            "                                                                 \n",
            " dense_18 (Dense)            (None, 10)                5530      \n",
            "                                                                 \n",
            " dense_19 (Dense)            (None, 5)                 55        \n",
            "                                                                 \n",
            "=================================================================\n",
            "Total params: 5653 (22.08 KB)\n",
            "Trainable params: 5653 (22.08 KB)\n",
            "Non-trainable params: 0 (0.00 Byte)\n",
            "_________________________________________________________________\n"
          ]
        }
      ],
      "source": [
        "# View model\n",
        "loaded_model.summary()"
      ]
    },
    {
      "cell_type": "code",
      "execution_count": null,
      "metadata": {
        "colab": {
          "base_uri": "https://localhost:8080/"
        },
        "id": "VHwSGVMo528I",
        "outputId": "12b18f8b-da1a-4f6f-9dbc-c019a8829000"
      },
      "outputs": [
        {
          "name": "stdout",
          "output_type": "stream",
          "text": [
            "Model is 25964 bytes\n"
          ]
        }
      ],
      "source": [
        "# Convert Keras model to a tflite model\n",
        "converter = tf.lite.TFLiteConverter.from_keras_model(loaded_model)\n",
        "converter.optimizations = []\n",
        "converter.allow_custom_ops = False\n",
        "converter.experimental_new_converter = True\n",
        "tflite_model = converter.convert()\n",
        "#droping default optimisation function and custom all ops function above\n",
        "\n",
        "open(tflite_model_name + '.tflite', 'wb').write(tflite_model)\n",
        "\n",
        "import os\n",
        "basic_model_size = os.path.getsize(\"tflite_dmodel__v15_DM2_3_3secs_2.tflite\")\n",
        "print(\"Model is %d bytes\" % basic_model_size)"
      ]
    },
    {
      "cell_type": "code",
      "execution_count": null,
      "metadata": {
        "id": "yBjac0ld8-Qk"
      },
      "outputs": [],
      "source": [
        "# Function: Convert some hex value into an array for C programming\n",
        "def hex_to_c_array(hex_data, var_name):\n",
        "\n",
        "  c_str = ''\n",
        "\n",
        "  # Create header guard\n",
        "  c_str += '#ifndef ' + var_name.upper() + '_H\\n'\n",
        "  c_str += '#define ' + var_name.upper() + '_H\\n\\n'\n",
        "\n",
        "  # Add array length at top of file\n",
        "  c_str += '\\nunsigned int ' + var_name + '_len = ' + str(len(hex_data)) + ';\\n'\n",
        "\n",
        "  # Declare C variable\n",
        "  c_str += 'unsigned char ' + var_name + '[] = {'\n",
        "  hex_array = []\n",
        "  for i, val in enumerate(hex_data) :\n",
        "\n",
        "    # Construct string from hex\n",
        "    hex_str = format(val, '#04x')\n",
        "\n",
        "    # Add formatting so each line stays within 80 characters\n",
        "    if (i + 1) < len(hex_data):\n",
        "      hex_str += ','\n",
        "    if (i + 1) % 12 == 0:\n",
        "      hex_str += '\\n '\n",
        "    hex_array.append(hex_str)\n",
        "\n",
        "  # Add closing brace\n",
        "  c_str += '\\n ' + format(' '.join(hex_array)) + '\\n};\\n\\n'\n",
        "\n",
        "  # Close out header guard\n",
        "  c_str += '#endif //' + var_name.upper() + '_H'\n",
        "\n",
        "  return c_str"
      ]
    },
    {
      "cell_type": "code",
      "execution_count": null,
      "metadata": {
        "id": "hqfSEJHd9F2Y"
      },
      "outputs": [],
      "source": [
        "# Write TFLite model to a C source (or header) file\n",
        "with open(c_model_name + '.h', 'w') as file:\n",
        "  file.write(hex_to_c_array(tflite_model, c_model_name))"
      ]
    }
  ],
  "metadata": {
    "colab": {
      "provenance": []
    },
    "kernelspec": {
      "display_name": "Python 3",
      "name": "python3"
    },
    "language_info": {
      "name": "python"
    }
  },
  "nbformat": 4,
  "nbformat_minor": 0
}
