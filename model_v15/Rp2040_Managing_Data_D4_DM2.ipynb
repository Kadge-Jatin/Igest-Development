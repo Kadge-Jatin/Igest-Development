{
  "nbformat": 4,
  "nbformat_minor": 0,
  "metadata": {
    "colab": {
      "provenance": [],
      "gpuType": "T4"
    },
    "kernelspec": {
      "name": "python3",
      "display_name": "Python 3"
    },
    "language_info": {
      "name": "python"
    },
    "accelerator": "GPU"
  },
  "cells": [
    {
      "cell_type": "markdown",
      "source": [
        "#**Managing Data - 'model_v15' on D4 - 3.3 secs Dataset - DM2**<br>\n",
        "\n",
        "---\n",
        "\n",
        "\n",
        "###**Guestures:**\n",
        "1.      No Motion\n",
        "2.      Left Swing\n",
        "3.      Right Swing\n",
        "4.      Adduction\n",
        "5.      Flexion\n",
        "\n",
        "\n",
        "Author: Vanitha P & Jatin Kadge <br>\n",
        "Date: 05'th Dec 2023"
      ],
      "metadata": {
        "id": "J-X7VRqjAujD"
      }
    },
    {
      "cell_type": "code",
      "execution_count": null,
      "metadata": {
        "id": "MKaiYMDfWso5"
      },
      "outputs": [],
      "source": [
        "import pandas as pd\n",
        "import numpy as np\n",
        "import matplotlib.pyplot as plt\n",
        "import os\n",
        "import shutil"
      ]
    },
    {
      "cell_type": "code",
      "source": [
        "# mounting drive\n",
        "from google.colab import drive\n",
        "drive.mount('/content/drive')"
      ],
      "metadata": {
        "colab": {
          "base_uri": "https://localhost:8080/"
        },
        "id": "vwChsxaf8RJO",
        "outputId": "96f24759-38c1-4311-918e-f9073124eeca"
      },
      "execution_count": null,
      "outputs": [
        {
          "output_type": "stream",
          "name": "stdout",
          "text": [
            "Drive already mounted at /content/drive; to attempt to forcibly remount, call drive.mount(\"/content/drive\", force_remount=True).\n"
          ]
        }
      ]
    },
    {
      "cell_type": "code",
      "source": [
        "import os\n",
        "import shutil\n",
        "import random\n",
        "\n",
        "# Set the path to our data folder\n",
        "data_dir = '/content/drive/MyDrive/iGest/Data/05_Dec/3_3-secs_Samples'\n",
        "\n",
        "# Set the path to our train and test folders\n",
        "train_dir = '/content/drive/MyDrive/iGest/Data/05_Dec/Train_Test/Train'\n",
        "test_dir = '/content/drive/MyDrive/iGest/Data/05_Dec/Train_Test/Test'\n",
        "\n",
        "#Drive Link: https://drive.google.com/drive/folders/19_DLihXj594NRIow7G-10f4maR_aOd3D?usp=sharing\n",
        "\n",
        "# # Set the train-test split ratio\n",
        "split_ratio = 0.8\n",
        "\n",
        "# # # Create train and test folders if they don't exist\n",
        "# os.makedirs(train_dir, exist_ok=True)\n",
        "# os.makedirs(test_dir, exist_ok=True)\n",
        "\n",
        "# # Loop through each gesture folder\n",
        "for gesture_folder in os.listdir(data_dir):\n",
        "  gesture_path = os.path.join(data_dir, gesture_folder)\n",
        "\n",
        "  # Check if it's a directory\n",
        "  if os.path.isdir(gesture_path):\n",
        "\n",
        "     # List all files in the gesture folder\n",
        "    files = os.listdir(gesture_path)\n",
        "\n",
        "#    #Shuffle the files to randomly split the data\n",
        "    random.shuffle(files)\n",
        "\n",
        "    # Calculate the split index\n",
        "    split_index = int(len(files) * split_ratio)\n",
        "\n",
        "    # Split the files into train and test sets\n",
        "    train_files = files[:split_index]\n",
        "    test_files = files[split_index:]\n",
        "\n",
        "   # Create train and test gesture folders\n",
        "    train_gesture_path = os.path.join(train_dir, gesture_folder)\n",
        "    test_gesture_path = os.path.join(test_dir, gesture_folder)\n",
        "\n",
        "    os.makedirs(train_gesture_path, exist_ok=True)\n",
        "    os.makedirs(test_gesture_path, exist_ok=True)\n",
        "\n",
        "    # Copy files to the train folder\n",
        "    for csv_file in train_files:\n",
        "      src = os.path.join(gesture_path, csv_file)\n",
        "      dst = os.path.join(train_gesture_path, csv_file)\n",
        "      # Check if the source is a directory\n",
        "      if os.path.isdir(src):\n",
        "        shutil.copytree(src, dst)\n",
        "      else:\n",
        "        shutil.copy(src, dst)\n",
        "\n",
        "   # Copy files to the test folder\n",
        "    for csv_file in test_files:\n",
        "      src = os.path.join(gesture_path, csv_file)\n",
        "      dst = os.path.join(test_gesture_path, csv_file)\n",
        "      # Check if the source is a directory\n",
        "      if os.path.isdir(src):\n",
        "        shutil.copytree(src, dst)\n",
        "      else:\n",
        "        shutil.copy(src, dst)"
      ],
      "metadata": {
        "id": "J5fmq1u4rSPS"
      },
      "execution_count": null,
      "outputs": []
    }
  ]
}