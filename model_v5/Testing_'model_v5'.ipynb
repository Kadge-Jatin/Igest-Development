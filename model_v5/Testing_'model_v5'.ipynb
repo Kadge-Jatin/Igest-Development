{
  "nbformat": 4,
  "nbformat_minor": 0,
  "metadata": {
    "colab": {
      "provenance": [],
      "include_colab_link": true
    },
    "kernelspec": {
      "name": "python3",
      "display_name": "Python 3"
    },
    "language_info": {
      "name": "python"
    }
  },
  "cells": [
    {
      "cell_type": "markdown",
      "metadata": {
        "id": "view-in-github",
        "colab_type": "text"
      },
      "source": [
        "<a href=\"https://colab.research.google.com/github/Kadge-Jatin/Igest-Development/blob/main/model_v5/Testing_'model_v5'.ipynb\" target=\"_parent\"><img src=\"https://colab.research.google.com/assets/colab-badge.svg\" alt=\"Open In Colab\"/></a>"
      ]
    },
    {
      "cell_type": "markdown",
      "source": [
        "#**Testing the ML Model 'model_v5' on new Dataset**<br>\n",
        "###**Guestures:**\n",
        "1.      No Motion\n",
        "2.      Left Swing\n",
        "3.      Right Swing\n",
        "4.      Adduction\n",
        "5.      Flexion\n",
        "\n",
        "Author: Jatin Kadge<br>\n",
        "Roll No.: EE23D021"
      ],
      "metadata": {
        "id": "J-X7VRqjAujD"
      }
    },
    {
      "cell_type": "code",
      "source": [
        "import pandas as pd\n",
        "import numpy as np\n",
        "import matplotlib.pyplot as plt"
      ],
      "metadata": {
        "id": "N5JC0Whd8Ne1"
      },
      "execution_count": null,
      "outputs": []
    },
    {
      "cell_type": "markdown",
      "source": [
        "####**Importing Dataset**\n",
        "\n",
        "\n"
      ],
      "metadata": {
        "id": "xL1WI0ehN9_8"
      }
    },
    {
      "cell_type": "code",
      "source": [
        "def getcsv_from_raw(file):\n",
        "  # Replace with your actual CSV file path\n",
        "  csv_file = file\n",
        "\n",
        "  # Read the CSV file into a DataFrame\n",
        "  df = pd.read_csv(csv_file, header=None)\n",
        "\n",
        "  # Split the first column into timestamp and numerical values\n",
        "  #df[0] = df[0].str.split(\" -> \")\n",
        "  #df[[\"timestamp\", \"values\"]] = pd.DataFrame(df[0].tolist(), index=df.index)\n",
        "  #df.drop(columns=[0], inplace=True)\n",
        "\n",
        "  # Rename columns\n",
        "  df.columns = [ \"Ax\", \"Ay\", \"Az\", \"Gx\", \"Gy\",\"Gz\", \"timestamp\"]\n",
        "\n",
        "  # Reordering columns\n",
        "  f = df[[\"timestamp\", \"Ax\", \"Ay\", \"Az\", \"Gx\", \"Gy\", \"Gz\"]]\n",
        "  return f"
      ],
      "metadata": {
        "id": "KIqD-oZB8O5k"
      },
      "execution_count": null,
      "outputs": []
    },
    {
      "cell_type": "code",
      "source": [
        "# mounting drive\n",
        "from google.colab import drive\n",
        "drive.mount('/content/drive')"
      ],
      "metadata": {
        "id": "vwChsxaf8RJO",
        "colab": {
          "base_uri": "https://localhost:8080/"
        },
        "outputId": "2e6400fe-60d4-4786-babf-6911f66541fd"
      },
      "execution_count": null,
      "outputs": [
        {
          "output_type": "stream",
          "name": "stdout",
          "text": [
            "Mounted at /content/drive\n"
          ]
        }
      ]
    },
    {
      "cell_type": "code",
      "source": [
        "left_swing = getcsv_from_raw('/content/drive/MyDrive/Wearable_devices_newdata/Data/left_swing-3_data.csv')\n",
        "right_swing = getcsv_from_raw('/content/drive/MyDrive/Wearable_devices_newdata/Data/right_swing-3_data.csv')\n",
        "no_motion = getcsv_from_raw('/content/drive/MyDrive/Wearable_devices_newdata/Data/no_motion-3_data.csv')\n",
        "flexion = getcsv_from_raw('/content/drive/MyDrive/Wearable_devices_newdata/Data/flexion-3_data.csv')\n",
        "adduction = getcsv_from_raw('/content/drive/MyDrive/Wearable_devices_newdata/Data/adduction-3_data.csv')"
      ],
      "metadata": {
        "id": "FpDpXhhXnoub"
      },
      "execution_count": null,
      "outputs": []
    },
    {
      "cell_type": "markdown",
      "source": [
        "####**Assigning values to guestures**"
      ],
      "metadata": {
        "id": "FxHlxsho8h0U"
      }
    },
    {
      "cell_type": "code",
      "source": [
        "def combine_data(gesture, df):\n",
        "  df['gesture'] = gesture\n",
        "  return df"
      ],
      "metadata": {
        "id": "torNjR568djX"
      },
      "execution_count": null,
      "outputs": []
    },
    {
      "cell_type": "code",
      "source": [
        "final_l = combine_data(1,left_swing)            # left = 1\n",
        "final_r = combine_data(2,right_swing)           # right = 2\n",
        "final_n = combine_data(0,no_motion)             # no_motion = 0\n",
        "final_adduction = combine_data(3,adduction)     # adduction = 3\n",
        "final_flexion = combine_data(4,flexion)         # flexion = 4"
      ],
      "metadata": {
        "id": "8WObwFjnoMUu"
      },
      "execution_count": null,
      "outputs": []
    },
    {
      "cell_type": "markdown",
      "source": [
        "####**Pushing Complete Dataset for Test**"
      ],
      "metadata": {
        "id": "c2e2iXmB8wOy"
      }
    },
    {
      "cell_type": "code",
      "source": [
        "def test(d2):\n",
        "  # features and output columns for validation set 30% of input data\n",
        "  x_validation = d2.iloc[:round(1*len(d2)), :-1]\n",
        "  y_validation = d2.iloc[:round(1*len(d2)), -1]\n",
        "  return x_validation, y_validation"
      ],
      "metadata": {
        "id": "yE2rCNXk876C"
      },
      "execution_count": null,
      "outputs": []
    },
    {
      "cell_type": "code",
      "source": [
        "l_x_validation,l_y_validation = test(final_l)\n",
        "r_x_validation,r_y_validation = test(final_r)\n",
        "n_x_validation,n_y_validation = test(final_n)\n",
        "\n",
        "adduction_x_validation,adduction_y_validation = test(final_adduction)\n",
        "flexion_x_validation,flexion_y_validation = test(final_flexion)"
      ],
      "metadata": {
        "id": "dXr8Sjda9L0Q"
      },
      "execution_count": null,
      "outputs": []
    },
    {
      "cell_type": "markdown",
      "source": [
        "####**Preprocessing the Test dataset before pushing it to ML model**"
      ],
      "metadata": {
        "id": "7BKwNSkHorh6"
      }
    },
    {
      "cell_type": "code",
      "source": [
        "def convert_to_np(df,k):\n",
        "  if (k==0):\n",
        "    n_timesteps = 10\n",
        "    n_features = 6\n",
        "\n",
        "    # Load the data from your dataframele\\\\\n",
        "    data = df.copy()\n",
        "\n",
        "    # Drop the timestamp column\n",
        "    data = data.drop(columns=['timestamp'])\n",
        "\n",
        "    # Determine the number of samples\n",
        "    num_samples = len(data) // n_timesteps\n",
        "\n",
        "    # Trim the data to only include full samples\n",
        "    data = data.iloc[:num_samples * n_timesteps]\n",
        "\n",
        "    # Convert the data to a 3D format\n",
        "    data_3d = data.values.reshape((num_samples, n_timesteps, n_features))\n",
        "\n",
        "    # Print the shape of the resulting data\n",
        "    return data_3d\n",
        "  else:\n",
        "    df = df.iloc[:df.shape[0]//10]\n",
        "    x = (np.array(df.values)).reshape(df.shape[0],1)\n",
        "    return x"
      ],
      "metadata": {
        "id": "eeu47lbGonTK"
      },
      "execution_count": null,
      "outputs": []
    },
    {
      "cell_type": "code",
      "source": [
        "# converting the dataframes to numpy arrays for efficient calculation\n",
        "\n",
        "x_validation = convert_to_np(l_x_validation,0)\n",
        "x_validation = np.vstack((x_validation,convert_to_np(r_x_validation,0)))\n",
        "x_validation = np.vstack((x_validation,convert_to_np(n_x_validation,0)))\n",
        "x_validation = np.vstack((x_validation,convert_to_np(flexion_x_validation,0)))\n",
        "x_validation = np.vstack((x_validation,convert_to_np(adduction_x_validation,0)))\n",
        "\n",
        "\n",
        "y_validation = convert_to_np(l_y_validation,1)\n",
        "y_validation = np.vstack((y_validation,convert_to_np(r_y_validation,1)))\n",
        "y_validation = np.vstack((y_validation,convert_to_np(n_y_validation,1)))\n",
        "y_validation = np.vstack((y_validation,convert_to_np(flexion_y_validation,1)))\n",
        "y_validation = np.vstack((y_validation,convert_to_np(adduction_y_validation,1)))"
      ],
      "metadata": {
        "id": "CCDIgIG-CsuB"
      },
      "execution_count": null,
      "outputs": []
    },
    {
      "cell_type": "markdown",
      "source": [
        "#### **Testing the machine learning model over the data**"
      ],
      "metadata": {
        "id": "ckp1zUMQo-uY"
      }
    },
    {
      "cell_type": "code",
      "source": [
        "# converting the numpy arrays to tensors\n",
        "import tensorflow as tf\n",
        "\n",
        "def conv_tensor(x):\n",
        "  t = tf.convert_to_tensor(x.astype('float32'))\n",
        "  return t"
      ],
      "metadata": {
        "id": "kZAgFdQmpJUd"
      },
      "execution_count": null,
      "outputs": []
    },
    {
      "cell_type": "markdown",
      "source": [
        "Importing the necessary modules for the machine learning model"
      ],
      "metadata": {
        "id": "gZjeayaTpRlv"
      }
    },
    {
      "cell_type": "code",
      "source": [
        "from numpy import mean\n",
        "from numpy import std\n",
        "from numpy import dstack\n",
        "from pandas import read_csv\n",
        "from matplotlib import pyplot\n",
        "from keras.models import Sequential\n",
        "from keras.layers import Dense\n",
        "from keras.layers import Flatten\n",
        "from keras.layers import Dropout\n",
        "from keras.layers import Conv1D\n",
        "from keras.layers import Conv2D\n",
        "from keras.layers import MaxPooling1D\n",
        "from keras.layers import MaxPooling2D\n",
        "from keras.utils import to_categorical\n",
        "from sklearn.metrics import confusion_matrix\n",
        "import seaborn as sns"
      ],
      "metadata": {
        "id": "XcnEALxzpSlk"
      },
      "execution_count": null,
      "outputs": []
    },
    {
      "cell_type": "markdown",
      "source": [
        "##### **ML model layers info**"
      ],
      "metadata": {
        "id": "eAo3LMbjpeDR"
      }
    },
    {
      "cell_type": "markdown",
      "source": [
        "Over here we used a sequential convolutional neural network. The data consisted of m samples, where each sample had 10 subsequent time stamps and each time stamp containing 6 features."
      ],
      "metadata": {
        "id": "iXdaV-Fipp3M"
      }
    },
    {
      "cell_type": "markdown",
      "source": [
        "This is a sequential model with the following layers\n",
        "\n",
        "\n",
        "1. Conv1D layer with 64 filters, kernel size of 3 and ReLU activation, with input shape of (n_timesteps, n_features).\n",
        "2. Another Conv1D layer with 64 filters, kernel size of 3 and ReLU activation.\n",
        "3. A dropout layer with 0.5 dropout rate.\n",
        "4. A MaxPooling1D layer with pool size of 2.\n",
        "5. A flatten layer.\n",
        "6. A dense layer with 100 neurons and ReLU activation.\n",
        "7. Another dense layer with n_outputs neurons and softmax activation.\n",
        "\n",
        "The model is compiled with categorical cross-entropy loss, adam optimizer and accuracy metric. It is trained with the given trainX and trainy data for a specified number of epochs and batch size. Finally, the accuracy of the model is evaluated on the testX and testy data."
      ],
      "metadata": {
        "id": "J1NuWF4kpt5w"
      }
    },
    {
      "cell_type": "markdown",
      "source": [
        "####**Model name: model_v2.keras**"
      ],
      "metadata": {
        "id": "XmvDFvh3OyX1"
      }
    },
    {
      "cell_type": "code",
      "source": [
        "# One-hot encode integer labels\n",
        "y_validation_one_hot = to_categorical(y_validation)\n",
        "\n",
        "# fit and evaluate a model\n",
        "def evaluate_model(testX, testy):\n",
        "\n",
        "  ########Loading the model\n",
        "  loaded_model = tf.keras.models.load_model(\"/content/drive/MyDrive/Wearable_devices_newdata/ML_models/model_v5.keras\")\n",
        "\n",
        "\t# confusion matrix\n",
        "  y_pred = loaded_model.predict(testX)\n",
        "  y_true = [np.argmax(testy[i]) for i in range(len(testy))]\n",
        "  y_pred_classes = [np.argmax(y_pred[i]) for i in range(len(y_pred))]\n",
        "  confusion_mtx = confusion_matrix(y_true, y_pred_classes)\n",
        "\n",
        "\t# evaluate model\n",
        "  _, accuracy = loaded_model.evaluate(testX, testy, batch_size= 32, verbose=0)\n",
        "  return accuracy, confusion_mtx\n",
        "\n",
        "# summarize scores\n",
        "def summarize_results(scores):\n",
        "\tprint(scores)\n",
        "\tm, s = mean(scores), std(scores)\n",
        "\tprint('Accuracy: %.3f%% (+/-%.3f)' % (m, s))\n",
        "\n",
        "# run an experiment\n",
        "def run_experiment(repeats=10):\n",
        "\t# load data\n",
        "\ttestX, testy = conv_tensor(x_validation),conv_tensor(y_validation_one_hot)\n",
        "\t# repeat experiment\n",
        "\ttotal_conf = np.zeros([5,5])\n",
        "\tscores = list()\n",
        "\tfor r in range(repeats):\n",
        "\t\tscore, confusion_mtx = evaluate_model(testX, testy)\n",
        "\t\tscore = score * 100.0\n",
        "\t\tprint('>#%d: %.3f' % (r+1, score))\n",
        "\t\tscores.append(score)\n",
        "\t\ttotal_conf+=confusion_mtx\n",
        "\n",
        "\t# summarize results\n",
        "\tsummarize_results(scores)\n",
        "\tfig, ax = plt.subplots(figsize=(8, 6))\n",
        "\tsns.heatmap(total_conf, annot=True, cmap='Blues', fmt='g', ax=ax)\n",
        "\tax.set_xlabel('Predicted labels')\n",
        "\tax.set_ylabel('True labels')\n",
        "\tax.set_title('Confusion Matrix')\n",
        "\tplt.show()\n",
        "# run the experiment\n",
        "run_experiment()"
      ],
      "metadata": {
        "id": "dR215vloDxlI",
        "colab": {
          "base_uri": "https://localhost:8080/",
          "height": 966
        },
        "outputId": "419743a7-1627-4c96-84c0-cebee5a1b128"
      },
      "execution_count": null,
      "outputs": [
        {
          "output_type": "stream",
          "name": "stdout",
          "text": [
            "38/38 [==============================] - 0s 3ms/step\n",
            ">#1: 96.833\n",
            "38/38 [==============================] - 0s 3ms/step\n",
            ">#2: 96.833\n",
            "38/38 [==============================] - 0s 3ms/step\n",
            ">#3: 96.833\n",
            "38/38 [==============================] - 0s 4ms/step\n",
            ">#4: 96.833\n",
            "38/38 [==============================] - 0s 3ms/step\n",
            ">#5: 96.833\n",
            "38/38 [==============================] - 0s 3ms/step\n",
            ">#6: 96.833\n",
            "38/38 [==============================] - 0s 3ms/step\n",
            ">#7: 96.833\n",
            "38/38 [==============================] - 0s 5ms/step\n",
            ">#8: 96.833\n",
            "38/38 [==============================] - 0s 4ms/step\n",
            ">#9: 96.833\n",
            "38/38 [==============================] - 0s 3ms/step\n",
            ">#10: 96.833\n",
            "[96.83333039283752, 96.83333039283752, 96.83333039283752, 96.83333039283752, 96.83333039283752, 96.83333039283752, 96.83333039283752, 96.83333039283752, 96.83333039283752, 96.83333039283752]\n",
            "Accuracy: 96.833% (+/-0.000)\n"
          ]
        },
        {
          "output_type": "display_data",
          "data": {
            "text/plain": [
              "<Figure size 800x600 with 2 Axes>"
            ],
            "image/png": "[encoded data removed]"
          },
          "metadata": {}
        }
      ]
    }
  ]
}