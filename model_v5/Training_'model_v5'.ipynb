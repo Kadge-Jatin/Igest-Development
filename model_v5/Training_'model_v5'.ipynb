{
  "nbformat": 4,
  "nbformat_minor": 0,
  "metadata": {
    "colab": {
      "provenance": [],
      "authorship_tag": "ABX9TyMjDmXypT+sl3y6Y6ax8qJU",
      "include_colab_link": true
    },
    "kernelspec": {
      "name": "python3",
      "display_name": "Python 3"
    },
    "language_info": {
      "name": "python"
    }
  },
  "cells": [
    {
      "cell_type": "markdown",
      "metadata": {
        "id": "view-in-github",
        "colab_type": "text"
      },
      "source": [
        "<a href=\"https://colab.research.google.com/github/Kadge-Jatin/Igest-Development/blob/main/model_v5/Training_'model_v5'.ipynb\" target=\"_parent\"><img src=\"https://colab.research.google.com/assets/colab-badge.svg\" alt=\"Open In Colab\"/></a>"
      ]
    },
    {
      "cell_type": "markdown",
      "source": [
        "#**Training a Model 'model_v5' on Dataset**<br>\n",
        "Author: Jatin Kadge<br>\n",
        "Roll No.: EE23D021"
      ],
      "metadata": {
        "id": "J-X7VRqjAujD"
      }
    },
    {
      "cell_type": "code",
      "source": [
        "import pandas as pd\n",
        "import numpy as np\n",
        "import matplotlib.pyplot as plt"
      ],
      "metadata": {
        "id": "N5JC0Whd8Ne1"
      },
      "execution_count": null,
      "outputs": []
    },
    {
      "cell_type": "code",
      "source": [
        "def getcsv_from_raw(file):\n",
        "  # Replace with your actual CSV file path\n",
        "  csv_file = file\n",
        "\n",
        "  # Read the CSV file into a DataFrame\n",
        "  df = pd.read_csv(csv_file, header=None)\n",
        "\n",
        "  # Split the first column into timestamp and numerical values\n",
        "  #df[0] = df[0].str.split(\" -> \")\n",
        "  #df[[\"timestamp\", \"values\"]] = pd.DataFrame(df[0].tolist(), index=df.index)\n",
        "  #df.drop(columns=[0], inplace=True)\n",
        "\n",
        "  # Rename columns\n",
        "  df.columns = [ \"Ax\", \"Ay\", \"Az\", \"Gx\", \"Gy\",\"Gz\", \"timestamp\"]\n",
        "\n",
        "  # Reordering columns\n",
        "  f = df[[\"timestamp\", \"Ax\", \"Ay\", \"Az\", \"Gx\", \"Gy\", \"Gz\"]]\n",
        "  return f"
      ],
      "metadata": {
        "id": "KIqD-oZB8O5k"
      },
      "execution_count": null,
      "outputs": []
    },
    {
      "cell_type": "code",
      "source": [
        "# mounting drive\n",
        "from google.colab import drive\n",
        "drive.mount('/content/drive')"
      ],
      "metadata": {
        "colab": {
          "base_uri": "https://localhost:8080/"
        },
        "id": "vwChsxaf8RJO",
        "outputId": "6bb53ba3-282b-41b9-abd2-a39afd911ce3"
      },
      "execution_count": null,
      "outputs": [
        {
          "output_type": "stream",
          "name": "stdout",
          "text": [
            "Drive already mounted at /content/drive; to attempt to forcibly remount, call drive.mount(\"/content/drive\", force_remount=True).\n"
          ]
        }
      ]
    },
    {
      "cell_type": "code",
      "source": [
        "left_swing = getcsv_from_raw('/content/drive/MyDrive/Wearable_devices_newdata/Data/left-swing_data.csv')\n",
        "right_swing = getcsv_from_raw('/content/drive/MyDrive/Wearable_devices_newdata/Data/right-swing_data.csv')\n",
        "no_motion = getcsv_from_raw('/content/drive/MyDrive/Wearable_devices_newdata/Data/no-motion_data.csv')\n",
        "flexion = getcsv_from_raw('/content/drive/MyDrive/Wearable_devices_newdata/Data/flexion-2_data.csv')\n",
        "adduction = getcsv_from_raw('/content/drive/MyDrive/Wearable_devices_newdata/Data/adduction-2_data.csv')"
      ],
      "metadata": {
        "id": "FpDpXhhXnoub"
      },
      "execution_count": null,
      "outputs": []
    },
    {
      "cell_type": "markdown",
      "source": [
        "####**Assigning unique values to guestures**"
      ],
      "metadata": {
        "id": "FxHlxsho8h0U"
      }
    },
    {
      "cell_type": "code",
      "source": [
        "def combine_data(gesture, df):\n",
        "  df['gesture'] = gesture\n",
        "  return df"
      ],
      "metadata": {
        "id": "torNjR568djX"
      },
      "execution_count": null,
      "outputs": []
    },
    {
      "cell_type": "code",
      "source": [
        "final_l = combine_data(1,left_swing)            # left = 1 rough value\n",
        "final_r = combine_data(2,right_swing)           # right = 2\n",
        "final_n = combine_data(0,no_motion)             # no_motion = 0 rough value\n",
        "final_adduction = combine_data(3,adduction)     # adduction = 3 rough value\n",
        "final_flexion = combine_data(4,flexion)         # flexion = 4 rough value"
      ],
      "metadata": {
        "id": "8WObwFjnoMUu"
      },
      "execution_count": null,
      "outputs": []
    },
    {
      "cell_type": "markdown",
      "source": [
        "####**Seperating the data into 80:20 ration for Trainin and Testing**"
      ],
      "metadata": {
        "id": "pkbuKGVWodPK"
      }
    },
    {
      "cell_type": "code",
      "source": [
        "def test_train(d2):\n",
        "  # features and output columns for training set 80% of input data\n",
        "  x_train = d2.iloc[:round(0.8*(d2.shape[0])), :-1]\n",
        "  y_train = d2.iloc[:round(0.8*(d2.shape[0])), -1]\n",
        "\n",
        "  # features and output columns for validation set 20% of input data\n",
        "  x_validation = d2.iloc[round(0.8*len(d2)):, :-1]\n",
        "  y_validation = d2.iloc[round(0.8*len(d2)):, -1]\n",
        "  return x_train, y_train, x_validation, y_validation"
      ],
      "metadata": {
        "id": "rLaTi5UyoXgt"
      },
      "execution_count": null,
      "outputs": []
    },
    {
      "cell_type": "code",
      "source": [
        "l_x_train,l_y_train,l_x_validation,l_y_validation = test_train(final_l)\n",
        "r_x_train,r_y_train,r_x_validation,r_y_validation = test_train(final_r)\n",
        "n_x_train,n_y_train,n_x_validation,n_y_validation = test_train(final_n)\n",
        "\n",
        "adduction_x_train,adduction_y_train,adduction_x_validation,adduction_y_validation = test_train(final_adduction)\n",
        "flexion_x_train,flexion_y_train,flexion_x_validation,flexion_y_validation = test_train(final_flexion)"
      ],
      "metadata": {
        "id": "MqTuWVZ_olEm"
      },
      "execution_count": null,
      "outputs": []
    },
    {
      "cell_type": "markdown",
      "source": [
        "####**Preprocessing the Train Test data before pushing it to ML Algorithem**"
      ],
      "metadata": {
        "id": "7BKwNSkHorh6"
      }
    },
    {
      "cell_type": "code",
      "source": [
        "def convert_to_np(df,k):\n",
        "  if (k==0):\n",
        "    n_timesteps = 10\n",
        "    n_features = 6\n",
        "\n",
        "    # Load the data from your dataframele\\\\\n",
        "    data = df.copy()\n",
        "\n",
        "    # Drop the timestamp column\n",
        "    data = data.drop(columns=['timestamp'])\n",
        "\n",
        "    # Determine the number of samples\n",
        "    num_samples = len(data) // n_timesteps\n",
        "\n",
        "    # Trim the data to only include full samples\n",
        "    data = data.iloc[:num_samples * n_timesteps]\n",
        "\n",
        "    # Convert the data to a 3D format\n",
        "    data_3d = data.values.reshape((num_samples, n_timesteps, n_features))\n",
        "\n",
        "    # Print the shape of the resulting data\n",
        "    return data_3d\n",
        "  else:\n",
        "    df = df.iloc[:df.shape[0]//10]\n",
        "    x = (np.array(df.values)).reshape(df.shape[0],1)\n",
        "    return x"
      ],
      "metadata": {
        "id": "eeu47lbGonTK"
      },
      "execution_count": null,
      "outputs": []
    },
    {
      "cell_type": "code",
      "source": [
        "# converting the dataframes to numpy arrays for efficient calculation\n",
        "x_train = convert_to_np(l_x_train,0)\n",
        "x_train = np.vstack((x_train,convert_to_np(r_x_train,0)))\n",
        "x_train = np.vstack((x_train,convert_to_np(n_x_train,0)))\n",
        "x_train = np.vstack((x_train,convert_to_np(flexion_x_train,0)))\n",
        "x_train = np.vstack((x_train,convert_to_np(adduction_x_train,0)))\n",
        "\n",
        "y_train = convert_to_np(l_y_train,1)\n",
        "y_train = np.vstack((y_train,convert_to_np(r_y_train,1)))\n",
        "y_train = np.vstack((y_train,convert_to_np(n_y_train,1)))\n",
        "y_train = np.vstack((y_train,convert_to_np(flexion_y_train,1)))\n",
        "y_train = np.vstack((y_train,convert_to_np(adduction_y_train,1)))\n",
        "\n",
        "x_validation = convert_to_np(l_x_validation,0)\n",
        "x_validation = np.vstack((x_validation,convert_to_np(r_x_validation,0)))\n",
        "x_validation = np.vstack((x_validation,convert_to_np(n_x_validation,0)))\n",
        "x_validation = np.vstack((x_validation,convert_to_np(flexion_x_validation,0)))\n",
        "x_validation = np.vstack((x_validation,convert_to_np(adduction_x_validation,0)))\n",
        "\n",
        "\n",
        "y_validation = convert_to_np(l_y_validation,1)\n",
        "y_validation = np.vstack((y_validation,convert_to_np(r_y_validation,1)))\n",
        "y_validation = np.vstack((y_validation,convert_to_np(n_y_validation,1)))\n",
        "y_validation = np.vstack((y_validation,convert_to_np(flexion_y_validation,1)))\n",
        "y_validation = np.vstack((y_validation,convert_to_np(adduction_y_validation,1)))"
      ],
      "metadata": {
        "id": "7tHzt688o1qN"
      },
      "execution_count": null,
      "outputs": []
    },
    {
      "cell_type": "markdown",
      "source": [
        "#### **Training the machine learning model over the data**"
      ],
      "metadata": {
        "id": "ckp1zUMQo-uY"
      }
    },
    {
      "cell_type": "code",
      "source": [
        "# converting the numpy arrays to tensors\n",
        "import tensorflow as tf\n",
        "\n",
        "def conv_tensor(x):\n",
        "  t = tf.convert_to_tensor(x.astype('float32'))\n",
        "  return t"
      ],
      "metadata": {
        "id": "kZAgFdQmpJUd"
      },
      "execution_count": null,
      "outputs": []
    },
    {
      "cell_type": "code",
      "source": [
        "print('TensorFlow ' + tf.__version__)"
      ],
      "metadata": {
        "colab": {
          "base_uri": "https://localhost:8080/"
        },
        "id": "M3xx9_P-tB3s",
        "outputId": "0831b8a7-3b59-47e6-c7ea-369d3fd689d3"
      },
      "execution_count": null,
      "outputs": [
        {
          "output_type": "stream",
          "name": "stdout",
          "text": [
            "TensorFlow 2.13.0\n"
          ]
        }
      ]
    },
    {
      "cell_type": "markdown",
      "source": [
        "Importing the necessary modules for the machine learning model"
      ],
      "metadata": {
        "id": "gZjeayaTpRlv"
      }
    },
    {
      "cell_type": "code",
      "source": [
        "from numpy import mean\n",
        "from numpy import std\n",
        "from numpy import dstack\n",
        "from pandas import read_csv\n",
        "from matplotlib import pyplot\n",
        "from keras.models import Sequential\n",
        "from keras.layers import Dense\n",
        "from keras.layers import Flatten\n",
        "from keras.layers import Dropout\n",
        "from keras.layers import Conv1D\n",
        "from keras.layers import Conv2D\n",
        "from keras.layers import MaxPooling1D\n",
        "from keras.layers import MaxPooling2D\n",
        "from keras.utils import to_categorical\n",
        "from sklearn.metrics import confusion_matrix\n",
        "import seaborn as sns"
      ],
      "metadata": {
        "id": "XcnEALxzpSlk"
      },
      "execution_count": null,
      "outputs": []
    },
    {
      "cell_type": "markdown",
      "source": [
        "##### **ML model**"
      ],
      "metadata": {
        "id": "eAo3LMbjpeDR"
      }
    },
    {
      "cell_type": "markdown",
      "source": [
        "Over here we used a sequential convolutional neural network. The data consisted of m samples, where each sample had 10 subsequent time stamps and each time stamp containing 6 features."
      ],
      "metadata": {
        "id": "iXdaV-Fipp3M"
      }
    },
    {
      "cell_type": "markdown",
      "source": [
        "This is a sequential model with the following layers\n",
        "\n",
        "\n",
        "1. Conv1D layer with 64 filters, kernel size of 3 and ReLU activation, with input shape of (n_timesteps, n_features).\n",
        "2. Another Conv1D layer with 64 filters, kernel size of 3 and ReLU activation.\n",
        "3. A dropout layer with 0.5 dropout rate.\n",
        "4. A MaxPooling1D layer with pool size of 2.\n",
        "5. A flatten layer.\n",
        "6. A dense layer with 100 neurons and ReLU activation.\n",
        "7. Another dense layer with n_outputs neurons and softmax activation.\n",
        "\n",
        "The model is compiled with categorical cross-entropy loss, adam optimizer and accuracy metric. It is trained with the given trainX and trainy data for a specified number of epochs and batch size. Finally, the accuracy of the model is evaluated on the testX and testy data."
      ],
      "metadata": {
        "id": "J1NuWF4kpt5w"
      }
    },
    {
      "cell_type": "markdown",
      "source": [
        "###### **4**\n",
        "This is a model having **500 epochs**. This means that the training data will pass throught the model 500 times so that the model can see hidden patterns which were not seen in the initial iterations."
      ],
      "metadata": {
        "id": "WdQDGf1xp61W"
      }
    },
    {
      "cell_type": "code",
      "source": [
        "# One-hot encode integer labels\n",
        "y_train_one_hot = to_categorical(y_train)\n",
        "y_validation_one_hot = to_categorical(y_validation)\n",
        "\n",
        "# fit and evaluate a model\n",
        "def evaluate_model(trainX, trainy, testX, testy):\n",
        "\tverbose, epochs, batch_size = 0, 500, 32\n",
        "\tn_timesteps, n_features, n_outputs = trainX.shape[1], trainX.shape[2], trainy.shape[1]\n",
        "\tmodel = Sequential()\n",
        "\tmodel.add(Conv2D(filters=64, kernel_size=(3,1), activation='relu', input_shape=(n_timesteps,n_features,1)))\n",
        "\tmodel.add(Conv2D(filters=64, kernel_size=(3,1), activation='relu'))\n",
        "\tmodel.add(Dropout(0.5))\n",
        "\tmodel.add(MaxPooling2D(pool_size=(2,1)))\n",
        "\tmodel.add(Flatten())\n",
        "\tmodel.add(Dense(100, activation='relu'))\n",
        "\tmodel.add(Dense(n_outputs, activation='softmax'))\n",
        "\tmodel.compile(loss='categorical_crossentropy', optimizer='adam', metrics=['accuracy'])\n",
        "\t# fit network\n",
        "\tmodel.fit(trainX, trainy, epochs=epochs, batch_size=batch_size, verbose=verbose)\n",
        "\n",
        "\t#######SAVING The MODEL\n",
        "\tmodel.save(\"/content/drive/MyDrive/Wearable_devices_newdata/ML_models/model_v5.keras\")\n",
        "\n",
        "\n",
        "\t########Loading the model\n",
        "\tloaded_model = tf.keras.models.load_model(\"/content/drive/MyDrive/Wearable_devices_newdata/ML_models/model_v5.keras\")\n",
        "\n",
        "\t# confusion matrix\n",
        "\ty_pred = loaded_model.predict(testX)\n",
        "\ty_true = [np.argmax(testy[i]) for i in range(len(testy))]\n",
        "\ty_pred_classes = [np.argmax(y_pred[i]) for i in range(len(y_pred))]\n",
        "\tconfusion_mtx = confusion_matrix(y_true, y_pred_classes)\n",
        "\n",
        "\t# evaluate model\n",
        "\t_, accuracy = loaded_model.evaluate(testX, testy, batch_size=batch_size, verbose=0)\n",
        "\treturn accuracy, confusion_mtx\n",
        "\n",
        "# summarize scores\n",
        "def summarize_results(scores):\n",
        "\tprint(scores)\n",
        "\tm, s = mean(scores), std(scores)\n",
        "\tprint('Accuracy: %.3f%% (+/-%.3f)' % (m, s))\n",
        "\n",
        "# run an experiment\n",
        "def run_experiment(repeats=10):\n",
        "\t# load data\n",
        "\ttrainX, trainy, testX, testy = conv_tensor(x_train),conv_tensor(y_train_one_hot),conv_tensor(x_validation),conv_tensor(y_validation_one_hot)\n",
        "\t# repeat experiment\n",
        "\ttotal_conf = np.zeros([5,5])\n",
        "\tscores = list()\n",
        "\tfor r in range(repeats):\n",
        "\t\tscore, confusion_mtx = evaluate_model(trainX, trainy, testX, testy)\n",
        "\t\tscore = score * 100.0\n",
        "\t\tprint('>#%d: %.3f' % (r+1, score))\n",
        "\t\tscores.append(score)\n",
        "\t\ttotal_conf+=confusion_mtx\n",
        "\n",
        "\t# summarize results\n",
        "\tsummarize_results(scores)\n",
        "\tfig, ax = plt.subplots(figsize=(8, 6))\n",
        "\tsns.heatmap(total_conf, annot=True, cmap='Blues', fmt='g', ax=ax)\n",
        "\tax.set_xlabel('Predicted labels')\n",
        "\tax.set_ylabel('True labels')\n",
        "\tax.set_title('Confusion Matrix')\n",
        "\tplt.show()\n",
        "# run the experiment\n",
        "run_experiment()"
      ],
      "metadata": {
        "colab": {
          "base_uri": "https://localhost:8080/",
          "height": 966
        },
        "id": "75uK1Xtcp_ah",
        "outputId": "a399c059-8f33-43b2-a13b-1175ecb83b58"
      },
      "execution_count": null,
      "outputs": [
        {
          "output_type": "stream",
          "name": "stdout",
          "text": [
            "12/12 [==============================] - 0s 3ms/step\n",
            ">#1: 95.225\n",
            "12/12 [==============================] - 0s 3ms/step\n",
            ">#2: 94.960\n",
            "12/12 [==============================] - 0s 3ms/step\n",
            ">#3: 94.960\n",
            "12/12 [==============================] - 0s 3ms/step\n",
            ">#4: 95.491\n",
            "12/12 [==============================] - 0s 3ms/step\n",
            ">#5: 95.225\n",
            "12/12 [==============================] - 0s 3ms/step\n",
            ">#6: 94.695\n",
            "12/12 [==============================] - 0s 4ms/step\n",
            ">#7: 93.899\n",
            "12/12 [==============================] - 0s 3ms/step\n",
            ">#8: 94.430\n",
            "12/12 [==============================] - 0s 3ms/step\n",
            ">#9: 95.225\n",
            "12/12 [==============================] - 0s 3ms/step\n",
            ">#10: 94.960\n",
            "[95.22546529769897, 94.96021270751953, 94.96021270751953, 95.49071788787842, 95.22546529769897, 94.69496011734009, 93.89920234680176, 94.42970752716064, 95.22546529769897, 94.96021270751953]\n",
            "Accuracy: 94.907% (+/-0.441)\n"
          ]
        },
        {
          "output_type": "display_data",
          "data": {
            "text/plain": [
              "<Figure size 800x600 with 2 Axes>"
            ],
            "image/png": "[encoded data removed]"
          },
          "metadata": {}
        }
      ]
    }
  ]
}